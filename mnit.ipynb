{
 "cells": [
  {
   "cell_type": "code",
   "execution_count": 1,
   "id": "8c7d6c36",
   "metadata": {},
   "outputs": [],
   "source": [
    "import pandas as pd"
   ]
  },
  {
   "cell_type": "code",
   "execution_count": 4,
   "id": "39096e31",
   "metadata": {},
   "outputs": [
    {
     "data": {
      "text/html": [
       "<div>\n",
       "<style scoped>\n",
       "    .dataframe tbody tr th:only-of-type {\n",
       "        vertical-align: middle;\n",
       "    }\n",
       "\n",
       "    .dataframe tbody tr th {\n",
       "        vertical-align: top;\n",
       "    }\n",
       "\n",
       "    .dataframe thead th {\n",
       "        text-align: right;\n",
       "    }\n",
       "</style>\n",
       "<table border=\"1\" class=\"dataframe\">\n",
       "  <thead>\n",
       "    <tr style=\"text-align: right;\">\n",
       "      <th></th>\n",
       "      <th>10/14/18, 08:04 - Diouf created group \"My Neck Is Throats\"</th>\n",
       "    </tr>\n",
       "  </thead>\n",
       "  <tbody>\n",
       "    <tr>\n",
       "      <th>0</th>\n",
       "      <td>10/14/18, 08:04 - You were added</td>\n",
       "    </tr>\n",
       "    <tr>\n",
       "      <th>1</th>\n",
       "      <td>8/23/19, 07:55 - Peter Moyo: Two albums droppe...</td>\n",
       "    </tr>\n",
       "    <tr>\n",
       "      <th>2</th>\n",
       "      <td>8/23/19, 07:56 - Peter Moyo: &lt;Media omitted&gt;</td>\n",
       "    </tr>\n",
       "    <tr>\n",
       "      <th>3</th>\n",
       "      <td>8/23/19, 08:09 - Tb Kamanga: Torrents. Uh oh</td>\n",
       "    </tr>\n",
       "    <tr>\n",
       "      <th>4</th>\n",
       "      <td>8/23/19, 08:10 - Tb Kamanga: 2 guys here strug...</td>\n",
       "    </tr>\n",
       "  </tbody>\n",
       "</table>\n",
       "</div>"
      ],
      "text/plain": [
       "  10/14/18, 08:04 - Diouf created group \"My Neck Is Throats\"\n",
       "0                   10/14/18, 08:04 - You were added        \n",
       "1  8/23/19, 07:55 - Peter Moyo: Two albums droppe...        \n",
       "2       8/23/19, 07:56 - Peter Moyo: <Media omitted>        \n",
       "3       8/23/19, 08:09 - Tb Kamanga: Torrents. Uh oh        \n",
       "4  8/23/19, 08:10 - Tb Kamanga: 2 guys here strug...        "
      ]
     },
     "execution_count": 4,
     "metadata": {},
     "output_type": "execute_result"
    }
   ],
   "source": [
    "df = pd.read_csv(r'mnit.txt', delimiter='\\t')\n",
    "df.head()"
   ]
  },
  {
   "cell_type": "code",
   "execution_count": 5,
   "id": "a333ce8d",
   "metadata": {},
   "outputs": [],
   "source": [
    "#df.to_csv('output.csv', index=False)\n"
   ]
  },
  {
   "cell_type": "code",
   "execution_count": 10,
   "id": "a14fd61c",
   "metadata": {},
   "outputs": [
    {
     "data": {
      "text/html": [
       "<div>\n",
       "<style scoped>\n",
       "    .dataframe tbody tr th:only-of-type {\n",
       "        vertical-align: middle;\n",
       "    }\n",
       "\n",
       "    .dataframe tbody tr th {\n",
       "        vertical-align: top;\n",
       "    }\n",
       "\n",
       "    .dataframe thead th {\n",
       "        text-align: right;\n",
       "    }\n",
       "</style>\n",
       "<table border=\"1\" class=\"dataframe\">\n",
       "  <thead>\n",
       "    <tr style=\"text-align: right;\">\n",
       "      <th></th>\n",
       "      <th>Date</th>\n",
       "      <th>Time</th>\n",
       "      <th>Sender</th>\n",
       "      <th>Message</th>\n",
       "      <th>Timestamp</th>\n",
       "    </tr>\n",
       "  </thead>\n",
       "  <tbody>\n",
       "    <tr>\n",
       "      <th>0</th>\n",
       "      <td>2018-10-14</td>\n",
       "      <td>08:04:00</td>\n",
       "      <td>None</td>\n",
       "      <td>Diouf created group \"My Neck Is Throats\"</td>\n",
       "      <td>2018-10-14 08:04:00</td>\n",
       "    </tr>\n",
       "    <tr>\n",
       "      <th>1</th>\n",
       "      <td>2018-10-14</td>\n",
       "      <td>08:04:00</td>\n",
       "      <td>None</td>\n",
       "      <td>You were added</td>\n",
       "      <td>2018-10-14 08:04:00</td>\n",
       "    </tr>\n",
       "    <tr>\n",
       "      <th>2</th>\n",
       "      <td>2019-08-23</td>\n",
       "      <td>07:55:00</td>\n",
       "      <td>Peter Moyo</td>\n",
       "      <td>Two albums dropped today</td>\n",
       "      <td>2019-08-23 07:55:00</td>\n",
       "    </tr>\n",
       "    <tr>\n",
       "      <th>3</th>\n",
       "      <td>2019-08-23</td>\n",
       "      <td>07:56:00</td>\n",
       "      <td>Peter Moyo</td>\n",
       "      <td>&lt;Media omitted&gt;</td>\n",
       "      <td>2019-08-23 07:56:00</td>\n",
       "    </tr>\n",
       "    <tr>\n",
       "      <th>4</th>\n",
       "      <td>2019-08-23</td>\n",
       "      <td>08:09:00</td>\n",
       "      <td>Tb Kamanga</td>\n",
       "      <td>Torrents. Uh oh</td>\n",
       "      <td>2019-08-23 08:09:00</td>\n",
       "    </tr>\n",
       "  </tbody>\n",
       "</table>\n",
       "</div>"
      ],
      "text/plain": [
       "         Date      Time      Sender                                   Message  \\\n",
       "0  2018-10-14  08:04:00        None  Diouf created group \"My Neck Is Throats\"   \n",
       "1  2018-10-14  08:04:00        None                            You were added   \n",
       "2  2019-08-23  07:55:00  Peter Moyo                  Two albums dropped today   \n",
       "3  2019-08-23  07:56:00  Peter Moyo                           <Media omitted>   \n",
       "4  2019-08-23  08:09:00  Tb Kamanga                           Torrents. Uh oh   \n",
       "\n",
       "            Timestamp  \n",
       "0 2018-10-14 08:04:00  \n",
       "1 2018-10-14 08:04:00  \n",
       "2 2019-08-23 07:55:00  \n",
       "3 2019-08-23 07:56:00  \n",
       "4 2019-08-23 08:09:00  "
      ]
     },
     "execution_count": 10,
     "metadata": {},
     "output_type": "execute_result"
    }
   ],
   "source": [
    "import pandas as pd\n",
    "import re\n",
    "\n",
    "# Load the raw text file\n",
    "with open('mnit.txt', 'r', encoding='utf-8') as f:\n",
    "    lines = f.readlines()\n",
    "\n",
    "# Regex pattern to detect new message lines (e.g., 8/24/19, 07:55 - ...)\n",
    "pattern = re.compile(r'^\\d{1,2}/\\d{1,2}/\\d{2}, \\d{1,2}:\\d{2} - ')\n",
    "\n",
    "# Combine lines into full messages\n",
    "messages = []\n",
    "current_message = ''\n",
    "\n",
    "for line in lines:\n",
    "    if pattern.match(line):\n",
    "        if current_message:\n",
    "            messages.append(current_message.strip())\n",
    "        current_message = line.strip()\n",
    "    else:\n",
    "        current_message += ' ' + line.strip()\n",
    "\n",
    "# Append the last message\n",
    "if current_message:\n",
    "    messages.append(current_message.strip())\n",
    "\n",
    "# Parse messages into structured data\n",
    "data = []\n",
    "\n",
    "for msg in messages:\n",
    "    try:\n",
    "        date_time, rest = msg.split(' - ', 1)\n",
    "        date_str, time_str = date_time.split(', ')\n",
    "        if ': ' in rest:\n",
    "            sender, message = rest.split(': ', 1)\n",
    "        else:\n",
    "            sender = None\n",
    "            message = rest\n",
    "        data.append([date_str, time_str, sender, message])\n",
    "    except ValueError:\n",
    "        continue  # Skip malformed lines\n",
    "\n",
    "# Create DataFrame\n",
    "df = pd.DataFrame(data, columns=['Date', 'Time', 'Sender', 'Message'])\n",
    "\n",
    "# Convert to proper date and time formats\n",
    "df['Date'] = pd.to_datetime(df['Date'], format='%m/%d/%y').dt.date\n",
    "df['Time'] = pd.to_datetime(df['Time'], format='%H:%M').dt.time\n",
    "\n",
    "# Combine into a single timestamp\n",
    "df['Timestamp'] = pd.to_datetime(df['Date'].astype(str) + ' ' + df['Time'].astype(str))\n",
    "\n",
    "# Preview the result\n",
    "df.head()\n",
    "\n",
    "\n"
   ]
  },
  {
   "cell_type": "code",
   "execution_count": 11,
   "id": "d58523b1",
   "metadata": {},
   "outputs": [
    {
     "name": "stdout",
     "output_type": "stream",
     "text": [
      "<class 'pandas.core.frame.DataFrame'>\n",
      "RangeIndex: 166705 entries, 0 to 166704\n",
      "Data columns (total 5 columns):\n",
      " #   Column     Non-Null Count   Dtype         \n",
      "---  ------     --------------   -----         \n",
      " 0   Date       166705 non-null  object        \n",
      " 1   Time       166705 non-null  object        \n",
      " 2   Sender     166666 non-null  object        \n",
      " 3   Message    166705 non-null  object        \n",
      " 4   Timestamp  166705 non-null  datetime64[ns]\n",
      "dtypes: datetime64[ns](1), object(4)\n",
      "memory usage: 6.4+ MB\n"
     ]
    }
   ],
   "source": [
    "df.info()"
   ]
  },
  {
   "cell_type": "code",
   "execution_count": 12,
   "id": "de3119cb",
   "metadata": {},
   "outputs": [],
   "source": [
    "df.to_csv('whatsapp_cleaned.csv', index=False)\n"
   ]
  },
  {
   "cell_type": "code",
   "execution_count": null,
   "id": "070ea9b6",
   "metadata": {},
   "outputs": [],
   "source": []
  }
 ],
 "metadata": {
  "kernelspec": {
   "display_name": "Python 3 (ipykernel)",
   "language": "python",
   "name": "python3"
  },
  "language_info": {
   "codemirror_mode": {
    "name": "ipython",
    "version": 3
   },
   "file_extension": ".py",
   "mimetype": "text/x-python",
   "name": "python",
   "nbconvert_exporter": "python",
   "pygments_lexer": "ipython3",
   "version": "3.9.13"
  }
 },
 "nbformat": 4,
 "nbformat_minor": 5
}
